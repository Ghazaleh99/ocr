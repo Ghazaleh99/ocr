{
  "nbformat": 4,
  "nbformat_minor": 0,
  "metadata": {
    "colab": {
      "provenance": [],
      "authorship_tag": "ABX9TyOXDJyw677k9adsfPdbHKU3",
      "include_colab_link": true
    },
    "kernelspec": {
      "name": "python3",
      "display_name": "Python 3"
    },
    "language_info": {
      "name": "python"
    }
  },
  "cells": [
    {
      "cell_type": "markdown",
      "metadata": {
        "id": "view-in-github",
        "colab_type": "text"
      },
      "source": [
        "<a href=\"https://colab.research.google.com/github/Ghazaleh99/ocr/blob/main/ANN_HW2_150901012_Hamzeh_mlp_ocr.ipynb\" target=\"_parent\"><img src=\"https://colab.research.google.com/assets/colab-badge.svg\" alt=\"Open In Colab\"/></a>"
      ]
    },
    {
      "cell_type": "markdown",
      "source": [
        "#HW2 - Neural Networks\n",
        "\n",
        "##MLP Comparison of optical character recognition\n",
        "\n",
        "\n",
        "---\n",
        "\n",
        "\n",
        "\n",
        "**Ghazaleh Hamzeh** \n",
        "\n",
        "**150901012**"
      ],
      "metadata": {
        "id": "HVAw1t_LdPd8"
      }
    },
    {
      "cell_type": "markdown",
      "source": [
        "##Step 1 - Import the libraries"
      ],
      "metadata": {
        "id": "OlwJhMKXYEYd"
      }
    },
    {
      "cell_type": "code",
      "execution_count": null,
      "metadata": {
        "colab": {
          "base_uri": "https://localhost:8080/"
        },
        "id": "zDqxxXrHR1dA",
        "outputId": "30b5128a-c4dd-4d5d-a9e9-cf058fb86b5a"
      },
      "outputs": [
        {
          "output_type": "stream",
          "name": "stdout",
          "text": [
            "Looking in indexes: https://pypi.org/simple, https://us-python.pkg.dev/colab-wheels/public/simple/\n",
            "Collecting patool\n",
            "  Downloading patool-1.12-py2.py3-none-any.whl (77 kB)\n",
            "\u001b[K     |████████████████████████████████| 77 kB 3.5 MB/s \n",
            "\u001b[?25hInstalling collected packages: patool\n",
            "Successfully installed patool-1.12\n"
          ]
        }
      ],
      "source": [
        "%pip install patool"
      ]
    },
    {
      "cell_type": "code",
      "execution_count": null,
      "metadata": {
        "id": "K1j4AD7K6FZ1"
      },
      "outputs": [],
      "source": [
        "# Package imports\n",
        "import os\n",
        "import patoolib\n",
        "import numpy as np\n",
        "import matplotlib.pyplot as plt"
      ]
    },
    {
      "cell_type": "markdown",
      "source": [
        "##Step 2 - Setting up the Data"
      ],
      "metadata": {
        "id": "HJYo9ZpbYMHs"
      }
    },
    {
      "cell_type": "code",
      "source": [
        "patoolib.extract_archive(\"SimpleOCR-TrainSetHW1.rar\")\n",
        "patoolib.extract_archive(\"SimpleOCR-TestSetHW1.rar\")"
      ],
      "metadata": {
        "colab": {
          "base_uri": "https://localhost:8080/",
          "height": 174
        },
        "id": "upwzlbsgcjTp",
        "outputId": "92f96b9a-5633-4607-abf7-e2a55f412bd5"
      },
      "execution_count": null,
      "outputs": [
        {
          "output_type": "stream",
          "name": "stdout",
          "text": [
            "patool: Extracting SimpleOCR-TrainSetHW1.rar ...\n",
            "patool: running /usr/bin/unrar x -- /content/SimpleOCR-TrainSetHW1.rar\n",
            "patool:     with cwd='./Unpack_4bsh61oe'\n",
            "patool: ... SimpleOCR-TrainSetHW1.rar extracted to `TrainSetHW1'.\n",
            "patool: Extracting SimpleOCR-TestSetHW1.rar ...\n",
            "patool: running /usr/bin/unrar x -- /content/SimpleOCR-TestSetHW1.rar\n",
            "patool:     with cwd='./Unpack_qic5_19x'\n",
            "patool: ... SimpleOCR-TestSetHW1.rar extracted to `TestSetHW1'.\n"
          ]
        },
        {
          "output_type": "execute_result",
          "data": {
            "text/plain": [
              "'TestSetHW1'"
            ],
            "application/vnd.google.colaboratory.intrinsic+json": {
              "type": "string"
            }
          },
          "metadata": {},
          "execution_count": 3
        }
      ]
    },
    {
      "cell_type": "code",
      "source": [
        "def read_files(path):\n",
        "  dic = {}\n",
        "  os.chdir(path) # Change the directory\n",
        "  for file in os.listdir(): # iterate through all file\n",
        "    if file.endswith('.txt'): \n",
        "        file_path = f'{path}/{file}'\n",
        "        my_file = open(file_path, \"r\")\n",
        "        data = my_file.read()\n",
        "        data = data.split('\\n')\n",
        "        dic[file] = data\n",
        "  return dic"
      ],
      "metadata": {
        "id": "qGIPGp5Lb4x_"
      },
      "execution_count": null,
      "outputs": []
    },
    {
      "cell_type": "code",
      "source": [
        "# Folder Path\n",
        "path_test = \"/content/TestSetHW1\"\n",
        "dict_test = read_files(path_test)\n",
        "\n",
        "path_train = \"/content/TrainSetHW1\"\n",
        "dict_train = read_files(path_train) "
      ],
      "metadata": {
        "id": "-TgQ4C9HbzQ4"
      },
      "execution_count": null,
      "outputs": []
    },
    {
      "cell_type": "markdown",
      "source": [
        "##Step 3 - Splitting the Data"
      ],
      "metadata": {
        "id": "Mj_YqQvuYQXK"
      }
    },
    {
      "cell_type": "code",
      "source": [
        "def convert2npArray(dict_data):\n",
        "  xlist, ylist = [], []\n",
        "  for i in dict_data.keys():\n",
        "    ylist.append(i[0])\n",
        "    tmp = []\n",
        "    for j in dict_data[i]:\n",
        "      tmp += j\n",
        "    xlist.append(tmp)\n",
        "\n",
        "  x = np.array(xlist)\n",
        "  y = np.array(ylist)\n",
        "  y = y.reshape(21,1)\n",
        "  return x.T, y.T"
      ],
      "metadata": {
        "id": "OigEtsV_ivXZ"
      },
      "execution_count": null,
      "outputs": []
    },
    {
      "cell_type": "code",
      "source": [
        "train_x, train_y = convert2npArray(dict_train)\n",
        "print('__________________train___________________')\n",
        "print(train_x.shape, train_y.shape)\n",
        "print(train_x[1])\n",
        "print(train_y)"
      ],
      "metadata": {
        "colab": {
          "base_uri": "https://localhost:8080/"
        },
        "id": "oD0R2CC6DcJF",
        "outputId": "b54807c8-fdd8-4a0c-cce7-dd3e52cd5062"
      },
      "execution_count": null,
      "outputs": [
        {
          "output_type": "stream",
          "name": "stdout",
          "text": [
            "__________________train___________________\n",
            "(63, 21) (1, 21)\n",
            "['#' '.' '#' '#' '.' '.' '#' '.' '.' '.' '#' '#' '.' '#' '.' '.' '#' '#'\n",
            " '#' '.' '#']\n",
            "[['D' 'J' 'B' 'K' 'C' 'K' 'K' 'C' 'A' 'J' 'B' 'E' 'A' 'E' 'J' 'C' 'E' 'D'\n",
            "  'D' 'A' 'B']]\n"
          ]
        }
      ]
    },
    {
      "cell_type": "code",
      "source": [
        "test_x, test_y = convert2npArray(dict_test)\n",
        "print('__________________test___________________')\n",
        "print(test_x.shape, test_y.shape)\n",
        "print(test_x[1])\n",
        "print(test_y)"
      ],
      "metadata": {
        "colab": {
          "base_uri": "https://localhost:8080/"
        },
        "id": "ItIvslXbLbqo",
        "outputId": "7513cd63-c5b6-4bf9-e3fb-1ffefe51f881"
      },
      "execution_count": null,
      "outputs": [
        {
          "output_type": "stream",
          "name": "stdout",
          "text": [
            "__________________test___________________\n",
            "(63, 21) (1, 21)\n",
            "['#' '.' '#' 'o' '.' '.' '#' '.' '.' '.' '#' '#' '.' '#' '.' '.' '#' '#'\n",
            " '#' '.' '#']\n",
            "[['D' 'J' 'B' 'K' 'C' 'K' 'K' 'C' 'A' 'J' 'B' 'E' 'A' 'E' 'J' 'C' 'E' 'D'\n",
            "  'D' 'A' 'B']]\n"
          ]
        }
      ]
    },
    {
      "cell_type": "markdown",
      "source": [
        "binary classification -> because of sigmoid activation function "
      ],
      "metadata": {
        "id": "5v6mw6lUFJCg"
      }
    },
    {
      "cell_type": "code",
      "source": [
        "def target2vec(y_tag):\n",
        "  classes = {\n",
        "      'A' : [1,0,0,0,0,0,0],\n",
        "      'B' : [0,1,0,0,0,0,0],\n",
        "      'C' : [0,0,1,0,0,0,0],\n",
        "      'D' : [0,0,0,1,0,0,0],\n",
        "      'E' : [0,0,0,0,1,0,0],\n",
        "      'J' : [0,0,0,0,0,1,0],\n",
        "      'K' : [0,0,0,0,0,0,1] \n",
        "      }\n",
        "  y_vec = []\n",
        "  for i in range(y_tag.shape[1]):\n",
        "    if y_tag[0][i] in classes.keys():\n",
        "      y_vec.append(classes[y_tag[0][i]])\n",
        "  y = np.array(y_vec)\n",
        "  return y.T"
      ],
      "metadata": {
        "id": "Bj-Oq9hKc_uC"
      },
      "execution_count": null,
      "outputs": []
    },
    {
      "cell_type": "code",
      "source": [
        "train_y_vec = target2vec(train_y)\n",
        "test_y_vec = target2vec(test_y)\n",
        "print(train_y_vec.shape, test_y_vec.shape)\n",
        "print(train_y_vec)"
      ],
      "metadata": {
        "colab": {
          "base_uri": "https://localhost:8080/"
        },
        "id": "jflMEjugD6sB",
        "outputId": "f6873996-5a23-4ffc-e597-bb166f465817"
      },
      "execution_count": null,
      "outputs": [
        {
          "output_type": "stream",
          "name": "stdout",
          "text": [
            "(7, 21) (7, 21)\n",
            "[[0 0 0 0 0 0 0 0 1 0 0 0 1 0 0 0 0 0 0 1 0]\n",
            " [0 0 1 0 0 0 0 0 0 0 1 0 0 0 0 0 0 0 0 0 1]\n",
            " [0 0 0 0 1 0 0 1 0 0 0 0 0 0 0 1 0 0 0 0 0]\n",
            " [1 0 0 0 0 0 0 0 0 0 0 0 0 0 0 0 0 1 1 0 0]\n",
            " [0 0 0 0 0 0 0 0 0 0 0 1 0 1 0 0 1 0 0 0 0]\n",
            " [0 1 0 0 0 0 0 0 0 1 0 0 0 0 1 0 0 0 0 0 0]\n",
            " [0 0 0 1 0 1 1 0 0 0 0 0 0 0 0 0 0 0 0 0 0]]\n"
          ]
        }
      ]
    },
    {
      "cell_type": "code",
      "source": [
        "def convert2vec(char_pix):\n",
        "  tmp2 = []\n",
        "  for i in char_pix:\n",
        "    tmp = []\n",
        "    for j in i:\n",
        "      for k in j:\n",
        "        if k == '.':\n",
        "          tmp.append(-1)\n",
        "        elif k == '#':\n",
        "          tmp.append(1)\n",
        "        else:\n",
        "          tmp.append(0.75)\n",
        "    tmp2.append(tmp)\n",
        "  char2vec = np.array(tmp2)\n",
        "  return char2vec"
      ],
      "metadata": {
        "id": "aHQG8IoJjb7x"
      },
      "execution_count": null,
      "outputs": []
    },
    {
      "cell_type": "code",
      "source": [
        "train_x_vec = convert2vec(train_x)\n",
        "print(train_x_vec.shape)\n",
        "print(train_x_vec)"
      ],
      "metadata": {
        "colab": {
          "base_uri": "https://localhost:8080/"
        },
        "id": "zPmisxCWCxgG",
        "outputId": "42c05663-c408-4e63-9897-f7ba4967be5a"
      },
      "execution_count": null,
      "outputs": [
        {
          "output_type": "stream",
          "name": "stdout",
          "text": [
            "(63, 21)\n",
            "[[ 1 -1  1 ...  1 -1  1]\n",
            " [ 1 -1  1 ...  1 -1  1]\n",
            " [ 1 -1  1 ...  1  1  1]\n",
            " ...\n",
            " [ 1  1  1 ...  1  1  1]\n",
            " [-1 -1  1 ... -1  1  1]\n",
            " [-1 -1 -1 ... -1  1 -1]]\n"
          ]
        }
      ]
    },
    {
      "cell_type": "code",
      "source": [
        "test_x_vec = convert2vec(test_x)\n",
        "print(test_x_vec.shape)\n",
        "print(test_x_vec)"
      ],
      "metadata": {
        "colab": {
          "base_uri": "https://localhost:8080/"
        },
        "id": "vpcSkjN8NbF_",
        "outputId": "2d15f593-e826-4b72-f346-86dcb4451601"
      },
      "execution_count": null,
      "outputs": [
        {
          "output_type": "stream",
          "name": "stdout",
          "text": [
            "(63, 21)\n",
            "[[ 0.75 -1.    1.   ...  1.   -1.    1.  ]\n",
            " [ 1.   -1.    1.   ...  1.   -1.    1.  ]\n",
            " [ 1.   -1.    1.   ...  1.    1.    1.  ]\n",
            " ...\n",
            " [ 1.    1.    1.   ...  1.    1.    1.  ]\n",
            " [-1.   -1.    1.   ... -1.    0.75  1.  ]\n",
            " [-1.   -1.   -1.   ... -1.    1.   -1.  ]]\n"
          ]
        }
      ]
    },
    {
      "cell_type": "markdown",
      "source": [
        "##Step 4 - Train "
      ],
      "metadata": {
        "id": "yCzSYODlYY38"
      }
    },
    {
      "cell_type": "markdown",
      "source": [
        "### 4.1 - Defining the neural network structure ####\n",
        "\n",
        "layers and learning rate\n",
        "\n",
        "Function `layer_sizes()`\n",
        "\n",
        "    Arguments:\n",
        "    X -- input dataset - shape (input size, number of examples)\n",
        "    Y -- target - shape (output size, number of examples)\n",
        "    n_h -- number of neurons in the hidden layer\n",
        "    \n",
        "    Returns:\n",
        "    n_x -- input layer units\n",
        "    n_h -- hidden layer units\n",
        "    n_y -- output layer units"
      ],
      "metadata": {
        "id": "-gx3oclGPz7e"
      }
    },
    {
      "cell_type": "code",
      "source": [
        "def layer_sizes(X, n_h, Y):\n",
        "    n_x = X.shape[0]\n",
        "    n_y = Y.shape[0]\n",
        "    n_h = n_h\n",
        "    return (n_x, n_h, n_y)"
      ],
      "metadata": {
        "id": "JgPrJtLxOUOG"
      },
      "execution_count": null,
      "outputs": []
    },
    {
      "cell_type": "code",
      "source": [
        "# hidden_layer_units = (train_x_vec.shape[0] + train_y_vec.shape[0]) // 2\n",
        "# (n_x, n_h, n_y) = layer_sizes(train_x_vec, train_y_vec)\n",
        "# learning_rate = 0.01\n",
        "# print('The learning rate is:', learning_rate)\n",
        "# print('The size of the input layer is:', n_x)\n",
        "# print('The size of the hidden layer is:', n_h)\n",
        "# print('The size of the output layer is:', n_y)"
      ],
      "metadata": {
        "id": "XXM76x18Rs3W"
      },
      "execution_count": null,
      "outputs": []
    },
    {
      "cell_type": "markdown",
      "source": [
        "### 4.2 - Initialize the model's parameters ####\n",
        "Function `initialize_parameters()`\n",
        "\n",
        "    Argument:\n",
        "    n_x -- size of the input layer\n",
        "    n_h -- size of the hidden layer\n",
        "    n_y -- size of the output layer\n",
        "    \n",
        "    Returns:\n",
        "    params -- a dictionary for parameters:\n",
        "                    W1 -- weight matrix of shape (n_h, n_x)\n",
        "                    b1 -- bias vector of shape (n_h, 1)\n",
        "                    W2 -- weight matrix of shape (n_y, n_h)\n",
        "                    b2 -- bias vector of shape (n_y, 1)\n",
        "   "
      ],
      "metadata": {
        "id": "D7Nh-v_1Srr2"
      }
    },
    {
      "cell_type": "code",
      "source": [
        "def initialize_parameters(n_x, n_h, n_y, a, b):\n",
        "    # W1 = np.random.randn(n_h,n_x) * 0.01\n",
        "    # b1 = np.zeros((n_h,1)) * 0.01\n",
        "    # W2 = np.random.randn(n_y,n_h) * 0.01\n",
        "    # b2 = np.zeros((n_y,1)) * 0.01\n",
        "\n",
        "    W1 = np.random.randn(n_h,n_x) * a\n",
        "    b1 = np.random.randn(n_h,1) * b\n",
        "    W2 = np.random.randn(n_y,n_h) * a\n",
        "    b2 = np.random.randn(n_y,1) * b\n",
        "\n",
        "    parameters = {\"W1\": W1,\n",
        "                  \"b1\": b1,\n",
        "                  \"W2\": W2,\n",
        "                  \"b2\": b2}\n",
        "    \n",
        "    return parameters"
      ],
      "metadata": {
        "id": "OeFCx8brTKE7"
      },
      "execution_count": null,
      "outputs": []
    },
    {
      "cell_type": "code",
      "source": [
        "# np.random.seed(2)\n",
        "# parameters = initialize_parameters(n_x, n_h, n_y)\n",
        "\n",
        "# print('W1', parameters[\"W1\"].shape)\n",
        "# print('b1', parameters[\"b1\"].shape)\n",
        "# print('W2', parameters[\"W2\"].shape)\n",
        "# print('b2', parameters[\"b2\"].shape)"
      ],
      "metadata": {
        "id": "cf8FCjuhTXfV"
      },
      "execution_count": null,
      "outputs": []
    },
    {
      "cell_type": "markdown",
      "source": [
        "### 4.3 - Activation Function (sigmoid)\n",
        "Function `forward_propagation()`\n",
        "\n",
        "    Argument:\n",
        "    X -- input\n",
        "    \n",
        "    Returns:\n",
        "    sigmoid(x)"
      ],
      "metadata": {
        "id": "aA3AbZheXP4z"
      }
    },
    {
      "cell_type": "code",
      "source": [
        "def sigmoid(x):\n",
        "  s = 1/(1+np.exp(-x))    \n",
        "  return s"
      ],
      "metadata": {
        "id": "EkhVfwUUZff8"
      },
      "execution_count": null,
      "outputs": []
    },
    {
      "cell_type": "markdown",
      "source": [
        "### 4.4 - Forward_propagation\n",
        "two layers -> two activation functions\n",
        "\n",
        "I used sigmoid for the output layer beacuse it's between 0 and 1\n",
        "which is great for classification.\n",
        "And for hidden layer I used tanh which is bipolar and efficent on distinguishing the input values."
      ],
      "metadata": {
        "id": "_9O_nVHKUhe2"
      }
    },
    {
      "cell_type": "markdown",
      "source": [
        "#### 4.4.1 - Forward_propagation\n",
        "Function `forward_propagation()`\n",
        "\n",
        "\n",
        "    Argument:\n",
        "    X -- input data of size (n_x, m)\n",
        "    parameters -- dictionary of parameters\n",
        "    \n",
        "    Returns:\n",
        "    A2 -- The sigmoid output of the output layer\n",
        "    cache -- a dictionary : \"Z1\", \"A1\", \"Z2\", \"A2\""
      ],
      "metadata": {
        "id": "pJR6j1nUXLIX"
      }
    },
    {
      "cell_type": "code",
      "source": [
        "def forward_propagation(X, parameters):\n",
        "\n",
        "  W1 = parameters[\"W1\"]\n",
        "  b1 = parameters[\"b1\"]\n",
        "  W2 = parameters[\"W2\"]\n",
        "  b2 = parameters[\"b2\"]\n",
        "\n",
        "  Z1 = np.dot(W1,X) + b1\n",
        "  A1 = np.tanh(Z1)\n",
        "  Z2 = np.dot(W2,A1) + b2\n",
        "  A2 = sigmoid(Z2)\n",
        "  \n",
        "  cache = {\"Z1\": Z1,\n",
        "            \"A1\": A1,\n",
        "            \"Z2\": Z2,\n",
        "            \"A2\": A2}\n",
        "  \n",
        "  return A2, cache"
      ],
      "metadata": {
        "id": "fJbW7dWBWRRs"
      },
      "execution_count": null,
      "outputs": []
    },
    {
      "cell_type": "code",
      "source": [
        "# A2, cache = forward_propagation(train_x_vec, parameters)\n",
        "# print('A2 = ', A2.shape)"
      ],
      "metadata": {
        "id": "vgfAtUfkW0cl"
      },
      "execution_count": null,
      "outputs": []
    },
    {
      "cell_type": "markdown",
      "source": [
        "#### 4.4.2 - Cost Function\n",
        "\n",
        "Function `cost_func()`\n",
        "\n",
        "$$J = - \\frac{1}{m} \\sum\\limits_{i = 1}^{m} \\large{(} \\small y^{(i)}\\log\\left(a^{[2] (i)}\\right) + (1-y^{(i)})\\log\\left(1- a^{[2] (i)}\\right) \\large{)}$$\n",
        "\n",
        "    Arguments:\n",
        "        A2 -- The sigmoid output of the second activation\n",
        "        Y -- Target \n",
        "\n",
        "    Returns:\n",
        "      cost"
      ],
      "metadata": {
        "id": "gyrmcdXjah3u"
      }
    },
    {
      "cell_type": "code",
      "source": [
        "def cost_func(A2, Y):\n",
        "  c = []\n",
        "  m = Y.shape[1] # number of examples\n",
        "  for i in range(Y.shape[0]):\n",
        "    logprobs = np.multiply(Y[i] ,np.log(A2[i])) + np.multiply((1-Y[i]), np.log(1-A2[i]))\n",
        "    cost = (-1/m) * np.sum(logprobs)\n",
        "    c.append(cost)\n",
        "  return np.array(c)"
      ],
      "metadata": {
        "id": "KMeWHzI2bZkY"
      },
      "execution_count": null,
      "outputs": []
    },
    {
      "cell_type": "code",
      "source": [
        "def MSE_loss(self, A2):\n",
        "  c = []\n",
        "  for i in range(self.Y.shape[0]):\n",
        "    squared_errors = (A2[i] - self.Y[i]) ** 2\n",
        "    Loss = np.sum(squared_errors)\n",
        "    c.append(Loss)\n",
        "  return np.array(c)"
      ],
      "metadata": {
        "id": "u-CIm3TGnfvE"
      },
      "execution_count": null,
      "outputs": []
    },
    {
      "cell_type": "code",
      "source": [
        "# cost = cost_func(A2, train_y_vec)\n",
        "# print(A2[0])\n",
        "# print(train_y_vec[0])\n",
        "# print('cost = ', cost)"
      ],
      "metadata": {
        "id": "4QjwurOCb7D8"
      },
      "execution_count": null,
      "outputs": []
    },
    {
      "cell_type": "markdown",
      "source": [
        "### 4.5 - Implement Backpropagation\n",
        "\n",
        "function `backward_propagation()`\n",
        "\n",
        "\n",
        "    Arguments:\n",
        "      parameters -- dictionary of parameters \n",
        "      cache -- dictionary \"Z1\", \"A1\", \"Z2\", \"A2\".\n",
        "      X -- input data - shape (64, 21)\n",
        "      Y -- targets vector - shape (7, 21)\n",
        "    \n",
        "    Returns:\n",
        "      grads -- dictionary of gradients"
      ],
      "metadata": {
        "id": "_LXVdJCtGwR6"
      }
    },
    {
      "cell_type": "code",
      "source": [
        "def backward_propagation(parameters, cache, X, Y):\n",
        "  m = X.shape[1] # number of examples\n",
        "  \n",
        "  W1 = parameters[\"W1\"]\n",
        "  W2 = parameters[\"W2\"]\n",
        "\n",
        "  A1 = cache[\"A1\"]\n",
        "  A2 = cache[\"A2\"]\n",
        "\n",
        "  dZ2 = A2 - Y # sigmoid(z2) - y\n",
        "  dW2 = (1/m) * np.dot(dZ2,A1.T)\n",
        "  db2 = (1/m) *(np.sum(dZ2,axis=1,keepdims=True)) # making sure the vector shape is ok\n",
        "  dZ1 = np.dot(W2.T,dZ2) * (1 - np.power(A1,2)) # dz1 = w2 * dz2 * tanh'(z1) = w2*(a2-y)a1(1-a1)\n",
        "  dW1 = (1/m) *(np.dot(dZ1,X.T))\n",
        "  db1 = (1/m) *(np.sum(dZ1, axis=1, keepdims=True))\n",
        "  \n",
        "  grads = { \"dW1\": dW1,\n",
        "            \"db1\": db1,\n",
        "            \"dW2\": dW2,\n",
        "            \"db2\": db2}\n",
        "  return grads"
      ],
      "metadata": {
        "id": "Hojl11laGu5e"
      },
      "execution_count": null,
      "outputs": []
    },
    {
      "cell_type": "code",
      "source": [
        "# grads = backward_propagation(parameters, cache, train_x_vec, train_y_vec)\n",
        "# print ('dW1 = ', grads[\"dW1\"])\n",
        "# print ('db1 = ', grads[\"db1\"])\n",
        "# print ('dW2 = ', grads[\"dW2\"])\n",
        "# print ('db2 = ', grads[\"db2\"])"
      ],
      "metadata": {
        "id": "UV1AhQ5QJV-i"
      },
      "execution_count": null,
      "outputs": []
    },
    {
      "cell_type": "markdown",
      "source": [
        "### 4.6 - Update Parameters \n",
        "Function `update_parameters()`\n",
        "    \n",
        "    Arguments:\n",
        "      parameters -- dictionary containing parameters \n",
        "      grads -- dictionary containing gradients \n",
        "      learning rate\n",
        "    \n",
        "    Returns:\n",
        "      parameters -- dictionary containing updated parameters \n",
        "\n",
        "$$w = w - \\alpha \\frac{\\partial E }{ \\partial \\theta }$$"
      ],
      "metadata": {
        "id": "bY_gEMOfLK7e"
      }
    },
    {
      "cell_type": "code",
      "source": [
        "def update_parameters(parameters, grads, learning_rate):\n",
        "  W1 = parameters[\"W1\"].copy()\n",
        "  b1 = parameters[\"b1\"]\n",
        "  W2 = parameters[\"W2\"].copy()\n",
        "  b2 = parameters[\"b2\"]\n",
        "\n",
        "  dW1 = grads[\"dW1\"]\n",
        "  db1 = grads[\"db1\"]\n",
        "  dW2 = grads[\"dW2\"]\n",
        "  db2 = grads[\"db2\"]\n",
        "\n",
        "  W1 = W1 - learning_rate * dW1\n",
        "  b1 = b1 - learning_rate * db1\n",
        "  W2 = W2 - learning_rate * dW2\n",
        "  b2 = b2 - learning_rate * db2\n",
        "  \n",
        "  param = {\"W1\": W1,\n",
        "            \"b1\": b1,\n",
        "            \"W2\": W2,\n",
        "            \"b2\": b2}\n",
        "  return param"
      ],
      "metadata": {
        "id": "CMrN3OmkL53M"
      },
      "execution_count": null,
      "outputs": []
    },
    {
      "cell_type": "code",
      "source": [
        "# parameters = update_parameters(parameters, grads, learning_rate)\n",
        "# print('W1 shape', parameters[\"W1\"].shape)\n",
        "# print('b1 shape', parameters[\"b1\"].shape)\n",
        "# print('W2 shape', parameters[\"W2\"].shape)\n",
        "# print('b2 shape', parameters[\"b2\"].shape)"
      ],
      "metadata": {
        "id": "hI6D48CVL6Oe"
      },
      "execution_count": null,
      "outputs": []
    },
    {
      "cell_type": "markdown",
      "source": [
        "### 4.7 - Error rate\n",
        "\n",
        "Function `error_rate()`\n",
        "\n",
        "    Argument:\n",
        "      y_vec -- target\n",
        "      predict_list -- predicton after train\n",
        "\n",
        "    Returns:\n",
        "      error rate\n",
        "\n",
        "$$\\\\Error = 100 * \\frac{\\\\Wrong\\\\predicts}{\\\\all }$$"
      ],
      "metadata": {
        "id": "-wDer8YcL9xX"
      }
    },
    {
      "cell_type": "code",
      "source": [
        "def error_rate(y_vec, predict_list):\n",
        "  y_vec = y_vec.T\n",
        "  predict = np.array(predict_list)\n",
        "  sum = 0\n",
        "  for i in range(y_vec.shape[0]):\n",
        "    if not np.array_equal(y_vec[i], predict[i]):\n",
        "      sum += 1\n",
        "  return (sum / y_vec.shape[0]) * 100"
      ],
      "metadata": {
        "id": "TAl_YHKbKv2a"
      },
      "execution_count": null,
      "outputs": []
    },
    {
      "cell_type": "code",
      "source": [
        "# error = error_rate(train_y_vec, predic)\n",
        "# print(error)"
      ],
      "metadata": {
        "id": "0TnLMFeyL8-e"
      },
      "execution_count": null,
      "outputs": []
    },
    {
      "cell_type": "markdown",
      "source": [
        "### 4.9 - Plot error-iteration while Training \n",
        "\n",
        "Function `plot_error()`\n",
        "\n",
        "    Arguments:\n",
        "      err_l -- error list (list of error per iteration)\n",
        "      name -- number of neourns in hidden layer and the learning rate\n",
        "\n"
      ],
      "metadata": {
        "id": "zw0mEZgAkFjw"
      }
    },
    {
      "cell_type": "code",
      "source": [
        "def plot_error(err_l, name):\n",
        "  # plt.rcParams[\"figure.figsize\"] = [100, 750]\n",
        "  # plt.rcParams[\"figure.autolayout\"] = True\n",
        "  plt.plot(err_l, label = name)\n",
        "  plt.xlabel('iterations')\n",
        "  plt.ylabel('error')\n",
        "  plt.title('Train')\n",
        "  plt.legend()\n",
        "  plt.show()"
      ],
      "metadata": {
        "id": "AgC46OC1kLk_"
      },
      "execution_count": null,
      "outputs": []
    },
    {
      "cell_type": "markdown",
      "source": [
        "### 4.8 - Train using above functions\n",
        "\n",
        "Function `mlp_train_model()`\n",
        "\n",
        "    Arguments:\n",
        "      X -- dataset\n",
        "      Y -- labels\n",
        "      nh -- number of neurons in the hidden layer\n",
        "      learning_rate \n",
        "      num_iterationsp -- number of iterations\n",
        "      rate -- a,b for weights and bias \n",
        "    \n",
        "    Returns:\n",
        "      error_list -- list of errors per iteration\n",
        "      predic -- prediction\n",
        "      parameters -- best updated parameters!\n",
        "      "
      ],
      "metadata": {
        "id": "Tva7gp2wL4qV"
      }
    },
    {
      "cell_type": "code",
      "source": [
        "def mlp_train_model(X, Y, nh, num_iterations, learning_rate, rate):\n",
        "  np.random.seed(5)\n",
        "  n_x = layer_sizes(X, nh, Y)[0]\n",
        "  n_h = layer_sizes(X, nh, Y)[1]\n",
        "  n_y = layer_sizes(X, nh, Y)[2]\n",
        "  parameters = initialize_parameters(n_x, n_h, n_y, rate[1], rate[0])\n",
        "  error_list = [('hidden layer:', n_h), ('learning rate:', learning_rate)]\n",
        "\n",
        "  for i in range(0, num_iterations):\n",
        "    A2, cache = forward_propagation(X, parameters)\n",
        "    cost = cost_func(A2, Y)\n",
        "    grads = backward_propagation(parameters, cache, X, Y)\n",
        "    parameters = update_parameters(parameters, grads, learning_rate)    \n",
        "    predic = []\n",
        "    A2 = A2.T\n",
        "    p = A2.max(axis=1)\n",
        "    max = 0\n",
        "    for j in range(A2.shape[0]):\n",
        "      tmp = []\n",
        "      for k in range(A2.shape[1]):\n",
        "        if A2[j][k] == p[j]:\n",
        "          tmp.append(1)\n",
        "        else:\n",
        "          tmp.append(0)\n",
        "      predic.append(tmp)\n",
        "    error = error_rate(Y, predic)\n",
        "    error_list.append(error)\n",
        "    if i%10 == 0:\n",
        "      print('Error after iteration', i, ':', error)\n",
        "      print('Cost after iteration', i, ':', cost)\n",
        "    if error < 1:\n",
        "      break\n",
        "  return error_list, predic, parameters"
      ],
      "metadata": {
        "id": "LzGausZNdh6g"
      },
      "execution_count": null,
      "outputs": []
    },
    {
      "cell_type": "code",
      "source": [
        "learning_rate = 0.01\n",
        "error_list, predic, best_param = mlp_train_model(train_x_vec, train_y_vec, 35, 1000, learning_rate, (0,0.01))\n"
      ],
      "metadata": {
        "id": "enZqGkEpfteb",
        "colab": {
          "base_uri": "https://localhost:8080/"
        },
        "outputId": "03202900-7c64-4ee8-f478-4556f48ebce0"
      },
      "execution_count": null,
      "outputs": [
        {
          "output_type": "stream",
          "name": "stdout",
          "text": [
            "Error after iteration 0 : 90.47619047619048\n",
            "Cost after iteration 0 : [0.69443937 0.6923166  0.6924012  0.69189467 0.6943796  0.69274274\n",
            " 0.69510688]\n",
            "Error after iteration 10 : 71.42857142857143\n",
            "Cost after iteration 10 : [0.67912377 0.67845593 0.67850008 0.67773703 0.68069494 0.67776835\n",
            " 0.68092951]\n",
            "Error after iteration 20 : 42.857142857142854\n",
            "Cost after iteration 20 : [0.66364519 0.6644502  0.66456189 0.66344866 0.66726668 0.66270634\n",
            " 0.66691559]\n",
            "Error after iteration 30 : 38.095238095238095\n",
            "Cost after iteration 30 : [0.64642885 0.6493259  0.64968741 0.64813534 0.65317272 0.64640999\n",
            " 0.65180584]\n",
            "Error after iteration 40 : 52.38095238095239\n",
            "Cost after iteration 40 : [0.62543257 0.63175591 0.63269728 0.63060556 0.63713977 0.62747021\n",
            " 0.63388828]\n",
            "Error after iteration 50 : 66.66666666666666\n",
            "Cost after iteration 50 : [0.59837512 0.61020416 0.61227067 0.6095167  0.61759519 0.60442846\n",
            " 0.61108932]\n",
            "Error after iteration 60 : 76.19047619047619\n",
            "Cost after iteration 60 : [0.56397027 0.58373176 0.58764583 0.58409639 0.59337457 0.57664136\n",
            " 0.58194283]\n",
            "Error after iteration 70 : 76.19047619047619\n",
            "Cost after iteration 70 : [0.52370164 0.55320502 0.55963842 0.55520212 0.56495838 0.54537368\n",
            " 0.54722129]\n",
            "Error after iteration 80 : 76.19047619047619\n",
            "Cost after iteration 80 : [0.48217236 0.52163201 0.53090359 0.52559882 0.53501355 0.51383974\n",
            " 0.51057409]\n",
            "Error after iteration 90 : 76.19047619047619\n",
            "Cost after iteration 90 : [0.44482092 0.49274552 0.50470615 0.49866701 0.50716543 0.48561681\n",
            " 0.47680211]\n",
            "Error after iteration 100 : 76.19047619047619\n",
            "Cost after iteration 100 : [0.41503063 0.46904766 0.48322654 0.47663364 0.48402826 0.46283343\n",
            " 0.44923594]\n",
            "Error after iteration 110 : 76.19047619047619\n",
            "Cost after iteration 110 : [0.39330792 0.45111474 0.46695153 0.45996001 0.46636371 0.4457234\n",
            " 0.42871748]\n",
            "Error after iteration 120 : 76.19047619047619\n",
            "Cost after iteration 120 : [0.37835091 0.43820274 0.45520274 0.44791414 0.45357711 0.43334712\n",
            " 0.41435447]\n",
            "Error after iteration 130 : 66.66666666666666\n",
            "Cost after iteration 130 : [0.3683424  0.42911002 0.44689774 0.4393647  0.44455564 0.4244334\n",
            " 0.40465122]\n",
            "Error after iteration 140 : 61.904761904761905\n",
            "Cost after iteration 140 : [0.36165718 0.42269963 0.44101458 0.4332548  0.43820779 0.41784239\n",
            " 0.39819366]\n",
            "Error after iteration 150 : 61.904761904761905\n",
            "Cost after iteration 150 : [0.35706661 0.41808017 0.43675361 0.42876125 0.43366475 0.4127021\n",
            " 0.39388294]\n",
            "Error after iteration 160 : 57.14285714285714\n",
            "Cost after iteration 160 : [0.35371115 0.41461069 0.43354206 0.42529438 0.4302982  0.40839099\n",
            " 0.39093983]\n",
            "Error after iteration 170 : 57.14285714285714\n",
            "Cost after iteration 170 : [0.35100955 0.41184795 0.43098654 0.42244678 0.42767396 0.40447702\n",
            " 0.3888361 ]\n",
            "Error after iteration 180 : 57.14285714285714\n",
            "Cost after iteration 180 : [0.34857195 0.40948894 0.42882119 0.41993901 0.42549704 0.40065845\n",
            " 0.38722094]\n",
            "Error after iteration 190 : 57.14285714285714\n",
            "Cost after iteration 190 : [0.34613424 0.40732476 0.42686608 0.41757653 0.42356672 0.39671883\n",
            " 0.38586272]\n",
            "Error after iteration 200 : 57.14285714285714\n",
            "Cost after iteration 200 : [0.34351317 0.40520787 0.42499771 0.41521926 0.42174418 0.39249631\n",
            " 0.3846079 ]\n",
            "Error after iteration 210 : 47.61904761904761\n",
            "Cost after iteration 210 : [0.34057731 0.4030302  0.42312923 0.41276122 0.4199308  0.3878641\n",
            " 0.38335352]\n",
            "Error after iteration 220 : 38.095238095238095\n",
            "Cost after iteration 220 : [0.3372293  0.40070904 0.4211977  0.41011751 0.41805415 0.38271894\n",
            " 0.38202945]\n",
            "Error after iteration 230 : 38.095238095238095\n",
            "Cost after iteration 230 : [0.33339575 0.39817849 0.41915621 0.40721642 0.41605945 0.37697533\n",
            " 0.38058702]\n",
            "Error after iteration 240 : 38.095238095238095\n",
            "Cost after iteration 240 : [0.32902255 0.39538467 0.41696909 0.40399509 0.41390461 0.37056363\n",
            " 0.37899189]\n",
            "Error after iteration 250 : 33.33333333333333\n",
            "Cost after iteration 250 : [0.32407356 0.39228353 0.4146092  0.40039768 0.41155759 0.36343102\n",
            " 0.3772195 ]\n",
            "Error after iteration 260 : 23.809523809523807\n",
            "Cost after iteration 260 : [0.31853154 0.38884039 0.41205649 0.39637545 0.40899519 0.35554426\n",
            " 0.37525197]\n",
            "Error after iteration 270 : 23.809523809523807\n",
            "Cost after iteration 270 : [0.31239992 0.38503056 0.40929721 0.39188814 0.40620251 0.34689337\n",
            " 0.37307595]\n",
            "Error after iteration 280 : 19.047619047619047\n",
            "Cost after iteration 280 : [0.30570435 0.38084055 0.40632342 0.38690606 0.4031725  0.33749547\n",
            " 0.37068084]\n",
            "Error after iteration 290 : 9.523809523809524\n",
            "Cost after iteration 290 : [0.29849291 0.37626916 0.40313253 0.38141253 0.39990551 0.32739775\n",
            " 0.36805758]\n",
            "Error after iteration 300 : 9.523809523809524\n",
            "Cost after iteration 300 : [0.29083446 0.3713281  0.39972683 0.37540594 0.39640839 0.3166788\n",
            " 0.36519768]\n",
            "Error after iteration 310 : 4.761904761904762\n",
            "Cost after iteration 310 : [0.28281482 0.36604172 0.39611286 0.36890092 0.3926934  0.3054472\n",
            " 0.36209298]\n",
            "Error after iteration 320 : 4.761904761904762\n",
            "Cost after iteration 320 : [0.27453105 0.36044567 0.39230079 0.36192834 0.38877692 0.29383708\n",
            " 0.35873574]\n"
          ]
        }
      ]
    },
    {
      "cell_type": "markdown",
      "source": [
        "##Step 5 - Test"
      ],
      "metadata": {
        "id": "mPB1EJfxY6GE"
      }
    },
    {
      "cell_type": "markdown",
      "source": [
        "### 5.1 - Predict on testset\n",
        "\n",
        "Using the learned parameters, predicts a class for each charachter example\n",
        "    \n",
        "Function `predict()`\n",
        "\n",
        "    Arguments:\n",
        "      parameters -- The paramaters trained on trainset \n",
        "      X -- input test data - shape : (number of classes, number of examples)\n",
        "    \n",
        "    Returns\n",
        "      predictions -- [each contains a vector]\n",
        "      error\n"
      ],
      "metadata": {
        "id": "pbSDDp_Jib4o"
      }
    },
    {
      "cell_type": "code",
      "source": [
        "def predict(parameters, X):\n",
        "  predic = []\n",
        "  A2, cache = forward_propagation(X, parameters)\n",
        "  A2 = A2.T\n",
        "  p = A2.max(axis=1)\n",
        "  max = 0\n",
        "  for i in range(A2.shape[0]):\n",
        "    tmp = []\n",
        "    for j in range(A2.shape[1]):\n",
        "      if A2[i][j] == p[i]:\n",
        "        tmp.append(1)\n",
        "      else:\n",
        "        tmp.append(0)\n",
        "    predic.append(tmp)\n",
        "  error = error_rate(test_y_vec, predic)\n",
        "  return predic, error"
      ],
      "metadata": {
        "id": "5gYjISe0idXr"
      },
      "execution_count": null,
      "outputs": []
    },
    {
      "cell_type": "code",
      "source": [
        "predictions, error = predict(best_param, test_x_vec)\n",
        "print('Predictions:', predictions)\n",
        "print('Error on testset:', error)"
      ],
      "metadata": {
        "colab": {
          "base_uri": "https://localhost:8080/"
        },
        "id": "7BO4ihcQ6BpT",
        "outputId": "0c579175-6a3e-44a2-acae-420c51c81740"
      },
      "execution_count": null,
      "outputs": [
        {
          "output_type": "stream",
          "name": "stdout",
          "text": [
            "Predictions: [[0, 0, 0, 1, 0, 0, 0], [0, 0, 0, 0, 0, 1, 0], [0, 1, 0, 0, 0, 0, 0], [0, 0, 0, 0, 0, 0, 1], [0, 0, 1, 0, 0, 0, 0], [0, 0, 0, 0, 0, 0, 1], [0, 0, 0, 0, 0, 0, 1], [0, 0, 1, 0, 0, 0, 0], [1, 0, 0, 0, 0, 0, 0], [0, 0, 0, 0, 0, 1, 0], [0, 1, 0, 0, 0, 0, 0], [0, 0, 0, 0, 1, 0, 0], [1, 0, 0, 0, 0, 0, 0], [0, 0, 0, 0, 1, 0, 0], [0, 0, 0, 0, 0, 1, 0], [0, 0, 1, 0, 0, 0, 0], [0, 0, 0, 0, 1, 0, 0], [0, 0, 0, 1, 0, 0, 0], [0, 0, 0, 1, 0, 0, 0], [1, 0, 0, 0, 0, 0, 0], [0, 1, 0, 0, 0, 0, 0]]\n",
            "Error on testset: 0.0\n"
          ]
        }
      ]
    },
    {
      "cell_type": "markdown",
      "source": [
        "Different Bias and Weight intializing"
      ],
      "metadata": {
        "id": "WSQmu_-MQZGj"
      }
    },
    {
      "cell_type": "code",
      "source": [
        "rate = [(0,-1),(0,-0.1),(0,0),(0,0.001),(0,0.01),(0,0.1),(0,1),(0,10),\n",
        "        (-1,-1),(-1,-0.1),(-1,0),(-1,0.001),(-1,0.01),(-1,0.1),(-1,1),(-1,10),\n",
        "        (1,-1),(1,-0.1),(1,0),(1,0.001),(1,0.01),(1,0.1),(1,1),(1,10),\n",
        "        (0.1,-1),(0.1,-0.1),(0.1,0),(0.1,0.001),(0.1,0.01),(0.1,0.1),(0.1,1),(0.1,10),\n",
        "        (0.01,-1),(0.01,-0.1),(0.01,0),(0.01,0.001),(0.01,0.01),(0.01,0.1),(0.01,1),(0.01,10),\n",
        "        (10,-1),(10,-0.1),(10,0),(10,0.001),(10,0.01),(10,0.1),(10,1),(10,10),\n",
        "        ]"
      ],
      "metadata": {
        "id": "19DumxxcIirz"
      },
      "execution_count": null,
      "outputs": []
    },
    {
      "cell_type": "markdown",
      "source": [
        "Initializing different values to Bias and Weights"
      ],
      "metadata": {
        "id": "xBsao1xrG25d"
      }
    },
    {
      "cell_type": "code",
      "source": [
        "# learning_rate = 0.01\n",
        "# for i in range(len(rate)):\n",
        "#   ra = rate[i][1]\n",
        "#   rb = rate[i][0]\n",
        "\n",
        "#   error_list, predic, best_param = mlp_train_model(train_x_vec, train_y_vec, 35, 1000, learning_rate, rate[i])\n",
        "#   predictions, error = predict(best_param, test_x_vec)\n",
        "#   print('b',rb,' w',ra)\n",
        "#   print('Error on testset:', error)"
      ],
      "metadata": {
        "id": "mUHi4fWgIir7"
      },
      "execution_count": null,
      "outputs": []
    },
    {
      "cell_type": "code",
      "source": [
        "# predictions, error = predict(best_param, test_x_vec)\n",
        "# print('error', error_list[-1])\n",
        "# print('W1', best_param['W1'])\n",
        "# print('b1', best_param['b1'])\n",
        "# print('W2', best_param['W2'])\n",
        "# print('b2', best_param['b2'])\n"
      ],
      "metadata": {
        "id": "GpYF1dq1PRO9"
      },
      "execution_count": null,
      "outputs": []
    },
    {
      "cell_type": "code",
      "source": [
        "error_list1, predic1, best_param1 = mlp_train_model(train_x_vec, train_y_vec, 5, 700, learning_rate, (0,0.01))\n",
        "\n",
        "error_list2, predic2, best_param2 = mlp_train_model(train_x_vec, train_y_vec, 20, 700, learning_rate, (0,0.01))\n",
        "\n",
        "error_list3, predic3, best_param3 = mlp_train_model(train_x_vec, train_y_vec, 100, 700, learning_rate, (0,0.01)) #mean"
      ],
      "metadata": {
        "id": "ekzlvWCwqO_Y",
        "colab": {
          "base_uri": "https://localhost:8080/"
        },
        "outputId": "347aa3ed-1e28-4f80-f509-7fb8fdf6cbdd"
      },
      "execution_count": null,
      "outputs": [
        {
          "output_type": "stream",
          "name": "stdout",
          "text": [
            "Error after iteration 0 : 76.19047619047619\n",
            "Cost after iteration 0 : [0.69288796 0.6931538  0.69325988 0.69333084 0.6930256  0.69272109\n",
            " 0.69281044]\n",
            "Error after iteration 10 : 57.14285714285714\n",
            "Cost after iteration 10 : [0.67974726 0.68052719 0.68061678 0.68063204 0.68039289 0.68009644\n",
            " 0.6799931 ]\n",
            "Error after iteration 20 : 57.14285714285714\n",
            "Cost after iteration 20 : [0.66691048 0.66834782 0.66845648 0.66843209 0.66827527 0.66787399\n",
            " 0.66753149]\n",
            "Error after iteration 30 : 47.61904761904761\n",
            "Cost after iteration 30 : [0.65399793 0.65640476 0.65658517 0.6565304  0.65647505 0.65584188\n",
            " 0.65515419]\n",
            "Error after iteration 40 : 52.38095238095239\n",
            "Cost after iteration 40 : [0.64046468 0.64437533 0.64471639 0.64463523 0.64469074 0.64367355\n",
            " 0.64246193]\n",
            "Error after iteration 50 : 66.66666666666666\n",
            "Cost after iteration 50 : [0.62562266 0.63181735 0.63246317 0.63235289 0.63249519 0.63092816\n",
            " 0.6289411 ]\n",
            "Error after iteration 60 : 71.42857142857143\n",
            "Cost after iteration 60 : [0.60888456 0.61828026 0.61942531 0.61927706 0.61942122 0.61716517\n",
            " 0.6141291 ]\n",
            "Error after iteration 70 : 71.42857142857143\n",
            "Cost after iteration 70 : [0.59020384 0.60354818 0.60538142 0.60519392 0.60518733 0.60217116\n",
            " 0.59791078]\n",
            "Error after iteration 80 : 71.42857142857143\n",
            "Cost after iteration 80 : [0.57029067 0.58781765 0.59044065 0.59024265 0.58989916 0.58611772\n",
            " 0.5806761 ]\n",
            "Error after iteration 90 : 61.904761904761905\n",
            "Cost after iteration 90 : [0.55026418 0.57159952 0.57499136 0.57484446 0.57400616 0.56948806\n",
            " 0.56312744]\n",
            "Error after iteration 100 : 61.904761904761905\n",
            "Cost after iteration 100 : [0.53111233 0.55546879 0.55951606 0.55948818 0.5580807  0.55287628\n",
            " 0.54595283]\n",
            "Error after iteration 110 : 71.42857142857143\n",
            "Cost after iteration 110 : [0.51345814 0.53990652 0.5444504  0.54458675 0.54264141 0.53683623\n",
            " 0.52966247]\n",
            "Error after iteration 120 : 71.42857142857143\n",
            "Cost after iteration 120 : [0.49760967 0.52526545 0.53013308 0.53044806 0.52808296 0.52180448\n",
            " 0.51458906]\n",
            "Error after iteration 130 : 71.42857142857143\n",
            "Cost after iteration 130 : [0.48366392 0.51177685 0.51679843 0.51728658 0.51466157 0.50806056\n",
            " 0.50092462]\n",
            "Error after iteration 140 : 71.42857142857143\n",
            "Cost after iteration 140 : [0.47157537 0.49956042 0.50458035 0.50523179 0.50250416 0.49572296\n",
            " 0.48874399]\n",
            "Error after iteration 150 : 71.42857142857143\n",
            "Cost after iteration 150 : [0.46120437 0.48864061 0.49352497 0.49433519 0.49163298 0.48478127\n",
            " 0.47802647]\n",
            "Error after iteration 160 : 71.42857142857143\n",
            "Cost after iteration 160 : [0.45236011 0.47897113 0.48361108 0.48458407 0.48199748 0.47514323\n",
            " 0.46868382]\n",
            "Error after iteration 170 : 76.19047619047619\n",
            "Cost after iteration 170 : [0.44483584 0.47046132 0.4747729  0.47592039 0.47350396 0.46667583\n",
            " 0.46058953]\n",
            "Error after iteration 180 : 66.66666666666666\n",
            "Cost after iteration 180 : [0.43843217 0.46299818 0.46692007 0.46825937 0.46603832 0.45923276\n",
            " 0.45360249]\n",
            "Error after iteration 190 : 66.66666666666666\n",
            "Cost after iteration 190 : [0.43296933 0.45646179 0.45995226 0.46150416 0.45948096 0.45266991\n",
            " 0.44758267]\n",
            "Error after iteration 200 : 61.904761904761905\n",
            "Cost after iteration 200 : [0.42829159 0.45073486 0.45376881 0.45555581 0.45371566 0.44685287\n",
            " 0.4423999 ]\n",
            "Error after iteration 210 : 61.904761904761905\n",
            "Cost after iteration 210 : [0.42426711 0.4457077  0.44827416 0.45031926 0.44863414 0.4416596\n",
            " 0.43793776]\n",
            "Error after iteration 220 : 61.904761904761905\n",
            "Cost after iteration 220 : [0.42078564 0.44128046 0.4433806  0.44570639 0.44413789 0.43698068\n",
            " 0.43409443]\n",
            "Error after iteration 230 : 61.904761904761905\n",
            "Cost after iteration 230 : [0.41775548 0.43736355 0.43900918 0.44163724 0.44013853 0.43271821\n",
            " 0.430782  ]\n",
            "Error after iteration 240 : 61.904761904761905\n",
            "Cost after iteration 240 : [0.41510023 0.43387723 0.43508959 0.43804001 0.43655728 0.42878416\n",
            " 0.4279249 ]\n",
            "Error after iteration 250 : 61.904761904761905\n",
            "Cost after iteration 250 : [0.41275581 0.43075075 0.4315596  0.43485052 0.43332411 0.42509885\n",
            " 0.4254582 ]\n",
            "Error after iteration 260 : 61.904761904761905\n",
            "Cost after iteration 260 : [0.41066787 0.4279214  0.42836413 0.43201132 0.43037684 0.42158955\n",
            " 0.42332586]\n",
            "Error after iteration 270 : 71.42857142857143\n",
            "Cost after iteration 270 : [0.4087895  0.42533365 0.42545446 0.42947071 0.42766024 0.41818975\n",
            " 0.42147911]\n",
            "Error after iteration 280 : 71.42857142857143\n",
            "Cost after iteration 280 : [0.4070794  0.42293856 0.42278736 0.42718183 0.42512545 0.41483914\n",
            " 0.41987516]\n",
            "Error after iteration 290 : 71.42857142857143\n",
            "Cost after iteration 290 : [0.40550041 0.42069331 0.42032436 0.42510183 0.42272956 0.41148434\n",
            " 0.41847601]\n",
            "Error after iteration 300 : 71.42857142857143\n",
            "Cost after iteration 300 : [0.40401832 0.41856109 0.4180312  0.42319114 0.42043542 0.40808045\n",
            " 0.41724769]\n",
            "Error after iteration 310 : 71.42857142857143\n",
            "Cost after iteration 310 : [0.40260124 0.41651098 0.41587729 0.42141292 0.41821163 0.40459288\n",
            " 0.41615963]\n",
            "Error after iteration 320 : 71.42857142857143\n",
            "Cost after iteration 320 : [0.40121923 0.41451798 0.41383539 0.41973268 0.41603246 0.40099913\n",
            " 0.41518431]\n",
            "Error after iteration 330 : 71.42857142857143\n",
            "Cost after iteration 330 : [0.39984437 0.41256283 0.41188132 0.41811793 0.41387781 0.39728985\n",
            " 0.41429703]\n",
            "Error after iteration 340 : 71.42857142857143\n",
            "Cost after iteration 340 : [0.39845099 0.41063163 0.40999387 0.41653809 0.4117329  0.39346861\n",
            " 0.41347583]\n",
            "Error after iteration 350 : 71.42857142857143\n",
            "Cost after iteration 350 : [0.39701621 0.40871527 0.40815468 0.4149644  0.40958774 0.3895504\n",
            " 0.41270139]\n",
            "Error after iteration 360 : 57.14285714285714\n",
            "Cost after iteration 360 : [0.39552023 0.40680873 0.40634818 0.41337008 0.40743647 0.38555887\n",
            " 0.41195698]\n",
            "Error after iteration 370 : 47.61904761904761\n",
            "Cost after iteration 370 : [0.39394669 0.40491027 0.40456145 0.41173059 0.40527667 0.38152288\n",
            " 0.41122829]\n",
            "Error after iteration 380 : 52.38095238095239\n",
            "Cost after iteration 380 : [0.39228277 0.40302066 0.40278413 0.41002408 0.40310854 0.37747296\n",
            " 0.41050334]\n",
            "Error after iteration 390 : 57.14285714285714\n",
            "Cost after iteration 390 : [0.39051913 0.40114252 0.40100811 0.40823187 0.40093426 0.37343817\n",
            " 0.40977224]\n",
            "Error after iteration 400 : 52.38095238095239\n",
            "Cost after iteration 400 : [0.38864973 0.39927966 0.39922738 0.40633891 0.39875738 0.36944372\n",
            " 0.40902698]\n",
            "Error after iteration 410 : 52.38095238095239\n",
            "Cost after iteration 410 : [0.38667165 0.39743652 0.39743762 0.40433417 0.39658237 0.36550968\n",
            " 0.40826126]\n",
            "Error after iteration 420 : 52.38095238095239\n",
            "Cost after iteration 420 : [0.38458479 0.39561776 0.395636   0.40221085 0.39441423 0.3616506\n",
            " 0.4074702 ]\n",
            "Error after iteration 430 : 47.61904761904761\n",
            "Cost after iteration 430 : [0.38239158 0.39382785 0.39382089 0.3999663  0.39225817 0.35787587\n",
            " 0.40665022]\n",
            "Error after iteration 440 : 47.61904761904761\n",
            "Cost after iteration 440 : [0.3800966  0.39207082 0.39199156 0.39760181 0.39011941 0.35419058\n",
            " 0.40579884]\n",
            "Error after iteration 450 : 42.857142857142854\n",
            "Cost after iteration 450 : [0.37770628 0.39035006 0.39014807 0.39512209 0.38800292 0.35059657\n",
            " 0.40491451]\n",
            "Error after iteration 460 : 42.857142857142854\n",
            "Cost after iteration 460 : [0.37522845 0.38866821 0.38829102 0.39253467 0.38591331 0.34709353\n",
            " 0.40399652]\n",
            "Error after iteration 470 : 42.857142857142854\n",
            "Cost after iteration 470 : [0.37267197 0.38702712 0.38642148 0.38984914 0.38385471 0.3436799\n",
            " 0.40304482]\n",
            "Error after iteration 480 : 38.095238095238095\n",
            "Cost after iteration 480 : [0.37004626 0.3854279  0.38454086 0.38707647 0.38183066 0.34035357\n",
            " 0.40205994]\n",
            "Error after iteration 490 : 38.095238095238095\n",
            "Cost after iteration 490 : [0.36736099 0.38387102 0.38265082 0.38422832 0.37984409 0.33711237\n",
            " 0.40104285]\n",
            "Error after iteration 500 : 38.095238095238095\n",
            "Cost after iteration 500 : [0.36462572 0.38235638 0.38075319 0.38131654 0.37789734 0.33395431\n",
            " 0.39999489]\n",
            "Error after iteration 510 : 38.095238095238095\n",
            "Cost after iteration 510 : [0.36184965 0.38088344 0.37884985 0.37835275 0.37599215 0.33087776\n",
            " 0.39891768]\n",
            "Error after iteration 520 : 38.095238095238095\n",
            "Cost after iteration 520 : [0.35904138 0.37945137 0.37694272 0.37534799 0.37412977 0.3278814\n",
            " 0.39781304]\n",
            "Error after iteration 530 : 38.095238095238095\n",
            "Cost after iteration 530 : [0.35620881 0.37805915 0.37503366 0.3723126  0.37231097 0.3249642\n",
            " 0.39668292]\n",
            "Error after iteration 540 : 38.095238095238095\n",
            "Cost after iteration 540 : [0.35335904 0.3767056  0.37312441 0.36925606 0.37053611 0.32212535\n",
            " 0.39552938]\n",
            "Error after iteration 550 : 38.095238095238095\n",
            "Cost after iteration 550 : [0.35049835 0.37538954 0.37121656 0.36618696 0.36880521 0.31936414\n",
            " 0.39435451]\n",
            "Error after iteration 560 : 38.095238095238095\n",
            "Cost after iteration 560 : [0.34763221 0.37410975 0.36931154 0.363113   0.36711803 0.31667995\n",
            " 0.39316043]\n",
            "Error after iteration 570 : 38.095238095238095\n",
            "Cost after iteration 570 : [0.3447653  0.37286504 0.36741059 0.36004102 0.36547408 0.31407213\n",
            " 0.39194921]\n",
            "Error after iteration 580 : 38.095238095238095\n",
            "Cost after iteration 580 : [0.34190161 0.37165426 0.36551473 0.35697704 0.3638727  0.31154002\n",
            " 0.39072293]\n",
            "Error after iteration 590 : 38.095238095238095\n",
            "Cost after iteration 590 : [0.33904446 0.3704763  0.36362482 0.35392632 0.36231307 0.30908288\n",
            " 0.3894836 ]\n",
            "Error after iteration 600 : 38.095238095238095\n",
            "Cost after iteration 600 : [0.33619661 0.3693301  0.36174156 0.35089341 0.36079429 0.3066999\n",
            " 0.38823315]\n",
            "Error after iteration 610 : 38.095238095238095\n",
            "Cost after iteration 610 : [0.33336036 0.36821463 0.35986548 0.34788222 0.35931536 0.30439014\n",
            " 0.38697348]\n",
            "Error after iteration 620 : 38.095238095238095\n",
            "Cost after iteration 620 : [0.33053758 0.36712888 0.35799703 0.34489607 0.35787525 0.30215261\n",
            " 0.38570642]\n",
            "Error after iteration 630 : 38.095238095238095\n",
            "Cost after iteration 630 : [0.3277298  0.36607189 0.35613658 0.34193774 0.3564729  0.29998618\n",
            " 0.38443372]\n",
            "Error after iteration 640 : 38.095238095238095\n",
            "Cost after iteration 640 : [0.3249383  0.36504268 0.35428447 0.33900952 0.35510727 0.29788963\n",
            " 0.38315708]\n",
            "Error after iteration 650 : 38.095238095238095\n",
            "Cost after iteration 650 : [0.32216412 0.36404029 0.35244102 0.33611326 0.35377731 0.29586163\n",
            " 0.38187814]\n",
            "Error after iteration 660 : 42.857142857142854\n",
            "Cost after iteration 660 : [0.31940817 0.36306378 0.35060663 0.33325041 0.35248203 0.29390075\n",
            " 0.38059848]\n",
            "Error after iteration 670 : 42.857142857142854\n",
            "Cost after iteration 670 : [0.31667123 0.36211219 0.34878172 0.33042204 0.35122046 0.29200543\n",
            " 0.37931963]\n",
            "Error after iteration 680 : 42.857142857142854\n",
            "Cost after iteration 680 : [0.31395399 0.36118455 0.34696684 0.32762891 0.34999168 0.29017405\n",
            " 0.37804309]\n",
            "Error after iteration 690 : 42.857142857142854\n",
            "Cost after iteration 690 : [0.3112571  0.36027992 0.34516262 0.32487147 0.34879485 0.28840486\n",
            " 0.37677029]\n",
            "Error after iteration 0 : 100.0\n",
            "Cost after iteration 0 : [0.69359049 0.69344852 0.69288388 0.69297164 0.69220688 0.69295771\n",
            " 0.69446168]\n",
            "Error after iteration 10 : 85.71428571428571\n",
            "Cost after iteration 10 : [0.67970735 0.68026599 0.67961559 0.67943478 0.67824021 0.67875818\n",
            " 0.68070179]\n",
            "Error after iteration 20 : 80.95238095238095\n",
            "Cost after iteration 20 : [0.66571512 0.6671359  0.66647369 0.66605014 0.66419728 0.66464894\n",
            " 0.66699558]\n",
            "Error after iteration 30 : 66.66666666666666\n",
            "Cost after iteration 30 : [0.65050918 0.65334041 0.65279868 0.65212939 0.64935472 0.64978228\n",
            " 0.65239444]\n",
            "Error after iteration 40 : 66.66666666666666\n",
            "Cost after iteration 40 : [0.63257318 0.63785376 0.63768418 0.63672386 0.63279349 0.63309363\n",
            " 0.63563501]\n",
            "Error after iteration 50 : 66.66666666666666\n",
            "Cost after iteration 50 : [0.61018472 0.61946233 0.62007489 0.61871705 0.61357433 0.61346097\n",
            " 0.615317  ]\n",
            "Error after iteration 60 : 71.42857142857143\n",
            "Cost after iteration 60 : [0.58229739 0.59733246 0.59924486 0.59733706 0.59126516 0.59028502\n",
            " 0.59060729]\n",
            "Error after iteration 70 : 71.42857142857143\n",
            "Cost after iteration 70 : [0.5496489  0.57177963 0.57545237 0.57287991 0.5665021  0.56415158\n",
            " 0.56208918]\n",
            "Error after iteration 80 : 66.66666666666666\n",
            "Cost after iteration 80 : [0.51493516 0.54448989 0.55014899 0.54692095 0.54097737 0.536882\n",
            " 0.53188524]\n",
            "Error after iteration 90 : 71.42857142857143\n",
            "Cost after iteration 90 : [0.48166703 0.51785211 0.52543814 0.52167303 0.5167509  0.51080323\n",
            " 0.5027991 ]\n",
            "Error after iteration 100 : 76.19047619047619\n",
            "Cost after iteration 100 : [0.45265662 0.49394292 0.5031993  0.49903674 0.49543713 0.48779693\n",
            " 0.47715803]\n",
            "Error after iteration 110 : 76.19047619047619\n",
            "Cost after iteration 110 : [0.42921799 0.47389869 0.48450255 0.48003882 0.47780158 0.46877062\n",
            " 0.45614746]\n",
            "Error after iteration 120 : 76.19047619047619\n",
            "Cost after iteration 120 : [0.41131138 0.45790615 0.46956085 0.46483968 0.46384469 0.45372452\n",
            " 0.43985897]\n",
            "Error after iteration 130 : 71.42857142857143\n",
            "Cost after iteration 130 : [0.39813326 0.44554501 0.45801903 0.45304952 0.45311464 0.44212362\n",
            " 0.42772108]\n",
            "Error after iteration 140 : 71.42857142857143\n",
            "Cost after iteration 140 : [0.38864675 0.43614808 0.44928016 0.44405448 0.44499754 0.43324909\n",
            " 0.41892242]\n",
            "Error after iteration 150 : 71.42857142857143\n",
            "Cost after iteration 150 : [0.38188039 0.42903223 0.4427228  0.43722592 0.43889298 0.4264061\n",
            " 0.41266928]\n",
            "Error after iteration 160 : 71.42857142857143\n",
            "Cost after iteration 160 : [0.37703942 0.42360338 0.43780357 0.43201647 0.43428943 0.42100798\n",
            " 0.40829406]\n",
            "Error after iteration 170 : 52.38095238095239\n",
            "Cost after iteration 170 : [0.37351654 0.41938435 0.43408661 0.42798625 0.43078092 0.41659083\n",
            " 0.40527718]\n",
            "Error after iteration 180 : 47.61904761904761\n",
            "Cost after iteration 180 : [0.37086337 0.41600682 0.43123819 0.4247962  0.42805714 0.41279847\n",
            " 0.40323129]\n",
            "Error after iteration 190 : 42.857142857142854\n",
            "Cost after iteration 190 : [0.36875346 0.41319132 0.42900893 0.42218999 0.42588525 0.40935967\n",
            " 0.40187462]\n",
            "Error after iteration 200 : 42.857142857142854\n",
            "Cost after iteration 200 : [0.36694888 0.41072631 0.42721455 0.41997466 0.42409147 0.40606653\n",
            " 0.40100498]\n",
            "Error after iteration 210 : 42.857142857142854\n",
            "Cost after iteration 210 : [0.36527384 0.40845043 0.42571902 0.41800374 0.42254558 0.40275723\n",
            " 0.40047831]\n",
            "Error after iteration 220 : 42.857142857142854\n",
            "Cost after iteration 220 : [0.363595   0.40623899 0.42442143 0.41616391 0.42114887 0.39930348\n",
            " 0.40019215]\n",
            "Error after iteration 230 : 42.857142857142854\n",
            "Cost after iteration 230 : [0.36180725 0.40399437 0.42324609 0.41436492 0.41982521 0.39560226\n",
            " 0.40007342]\n",
            "Error after iteration 240 : 42.857142857142854\n",
            "Cost after iteration 240 : [0.35982385 0.4016398  0.42213538 0.4125321  0.41851474 0.3915711\n",
            " 0.40006961]\n",
            "Error after iteration 250 : 33.33333333333333\n",
            "Cost after iteration 250 : [0.35756964 0.39911559 0.42104475 0.41060122 0.41716953 0.38714621\n",
            " 0.4001423 ]\n",
            "Error after iteration 260 : 33.33333333333333\n",
            "Cost after iteration 260 : [0.35497683 0.39637739 0.41993923 0.40851498 0.41575096 0.38228258\n",
            " 0.40026267]\n",
            "Error after iteration 270 : 23.809523809523807\n",
            "Cost after iteration 270 : [0.35198265 0.3933955  0.41879105 0.40622111 0.41422807 0.37695495\n",
            " 0.40040819]\n",
            "Error after iteration 280 : 28.57142857142857\n",
            "Cost after iteration 280 : [0.34852855 0.39015466 0.41757793 0.40367197 0.4125768  0.37115874\n",
            " 0.4005603 ]\n",
            "Error after iteration 290 : 28.57142857142857\n",
            "Cost after iteration 290 : [0.34456073 0.38665356 0.41628175 0.4008256  0.41077962 0.36490959\n",
            " 0.40070268]\n",
            "Error after iteration 300 : 28.57142857142857\n",
            "Cost after iteration 300 : [0.34003163 0.38290381 0.41488736 0.39764842 0.40882519 0.35824125\n",
            " 0.40081998]\n",
            "Error after iteration 310 : 28.57142857142857\n",
            "Cost after iteration 310 : [0.33490229 0.37892801 0.41338155 0.39411942 0.40670788 0.35120191\n",
            " 0.40089671]\n",
            "Error after iteration 320 : 28.57142857142857\n",
            "Cost after iteration 320 : [0.32914529 0.37475729 0.41175207 0.39023501 0.404427   0.34384977\n",
            " 0.4009165 ]\n",
            "Error after iteration 330 : 23.809523809523807\n",
            "Cost after iteration 330 : [0.32274802 0.37042846 0.40998711 0.38601291 0.40198599 0.33624888\n",
            " 0.40086163]\n",
            "Error after iteration 340 : 23.809523809523807\n",
            "Cost after iteration 340 : [0.31571574 0.36598129 0.40807515 0.38149272 0.39939142 0.32846587\n",
            " 0.4007132 ]\n",
            "Error after iteration 350 : 19.047619047619047\n",
            "Cost after iteration 350 : [0.30807382 0.36145612 0.40600536 0.37673155 0.39665223 0.32056759\n",
            " 0.40045173]\n",
            "Error after iteration 360 : 14.285714285714285\n",
            "Cost after iteration 360 : [0.2998685  0.35689181 0.40376824 0.371795   0.39377903 0.31261938\n",
            " 0.40005825]\n",
            "Error after iteration 370 : 14.285714285714285\n",
            "Cost after iteration 370 : [0.29116587 0.35232411 0.40135629 0.36674661 0.39078335 0.30468331\n",
            " 0.39951526]\n",
            "Error after iteration 380 : 14.285714285714285\n",
            "Cost after iteration 380 : [0.28204887 0.34778426 0.39876435 0.36163939 0.38767688 0.2968163\n",
            " 0.39880735]\n",
            "Error after iteration 390 : 9.523809523809524\n",
            "Cost after iteration 390 : [0.27261309 0.34329808 0.39598975 0.35651198 0.3844706  0.28906811\n",
            " 0.39792134]\n",
            "Error after iteration 400 : 9.523809523809524\n",
            "Cost after iteration 400 : [0.26296166 0.3388855  0.3930323  0.35138892 0.38117411 0.2814797\n",
            " 0.39684612]\n",
            "Error after iteration 410 : 9.523809523809524\n",
            "Cost after iteration 410 : [0.2532     0.33456072 0.38989411 0.34628366 0.37779516 0.27408239\n",
            " 0.39557229]\n",
            "Error after iteration 420 : 9.523809523809524\n",
            "Cost after iteration 420 : [0.24343085 0.33033278 0.38657951 0.34120236 0.37433956 0.26689793\n",
            " 0.39409188]\n",
            "Error after iteration 430 : 9.523809523809524\n",
            "Cost after iteration 430 : [0.23374996 0.32620639 0.38309495 0.33614729 0.37081133 0.25993928\n",
            " 0.39239816]\n",
            "Error after iteration 440 : 9.523809523809524\n",
            "Cost after iteration 440 : [0.22424269 0.32218294 0.37944881 0.33111935 0.36721303 0.25321211\n",
            " 0.39048564]\n",
            "Error after iteration 450 : 9.523809523809524\n",
            "Cost after iteration 450 : [0.21498179 0.31826133 0.37565122 0.32611976 0.36354624 0.24671639\n",
            " 0.38835006]\n",
            "Error after iteration 460 : 9.523809523809524\n",
            "Cost after iteration 460 : [0.20602629 0.31443874 0.37171372 0.32115099 0.35981194 0.24044798\n",
            " 0.38598853]\n",
            "Error after iteration 470 : 9.523809523809524\n",
            "Cost after iteration 470 : [0.19742145 0.3107112  0.3676489  0.31621715 0.35601095 0.23440004\n",
            " 0.3833996 ]\n",
            "Error after iteration 480 : 4.761904761904762\n",
            "Cost after iteration 480 : [0.18919961 0.307074   0.36347005 0.31132404 0.35214426 0.22856411\n",
            " 0.3805834 ]\n",
            "Error after iteration 0 : 76.19047619047619\n",
            "Cost after iteration 0 : [0.69291227 0.69382904 0.69004102 0.6957394  0.69180031 0.69444478\n",
            " 0.69245859]\n",
            "Error after iteration 10 : 47.61904761904761\n",
            "Cost after iteration 10 : [0.67399393 0.67610561 0.67324731 0.67932806 0.67489294 0.67566976\n",
            " 0.6749022 ]\n",
            "Error after iteration 20 : 38.095238095238095\n",
            "Cost after iteration 20 : [0.65318308 0.65740842 0.65542428 0.66260288 0.65702615 0.65600975\n",
            " 0.65590455]\n",
            "Error after iteration 30 : 38.095238095238095\n",
            "Cost after iteration 30 : [0.62680492 0.63514117 0.6344655  0.64333206 0.63584698 0.6327631\n",
            " 0.63246835]\n",
            "Error after iteration 40 : 47.61904761904761\n",
            "Cost after iteration 40 : [0.59084646 0.60662693 0.60826113 0.61902144 0.60891868 0.60317591\n",
            " 0.60135959]\n",
            "Error after iteration 50 : 47.61904761904761\n",
            "Cost after iteration 50 : [0.54315486 0.57057474 0.57596989 0.58799969 0.57510458 0.56593095\n",
            " 0.56087933]\n",
            "Error after iteration 60 : 52.38095238095239\n",
            "Cost after iteration 60 : [0.48752276 0.52970886 0.54015735 0.55182542 0.53703419 0.52380799\n",
            " 0.51415124]\n",
            "Error after iteration 70 : 47.61904761904761\n",
            "Cost after iteration 70 : [0.43391437 0.4907723  0.50662316 0.51600397 0.5010796  0.48365239\n",
            " 0.46932728]\n",
            "Error after iteration 80 : 57.14285714285714\n",
            "Cost after iteration 80 : [0.39128755 0.45972299 0.48029536 0.48626499 0.47279636 0.45144724\n",
            " 0.43381187]\n",
            "Error after iteration 90 : 57.14285714285714\n",
            "Cost after iteration 90 : [0.36187444 0.43795807 0.46216389 0.46466116 0.45338733 0.4284746\n",
            " 0.40953177]\n",
            "Error after iteration 100 : 57.14285714285714\n",
            "Cost after iteration 100 : [0.34296214 0.42353032 0.45042189 0.44994077 0.44091946 0.41260954\n",
            " 0.39429103]\n",
            "Error after iteration 110 : 57.14285714285714\n",
            "Cost after iteration 110 : [0.33077337 0.41379872 0.44274449 0.43984304 0.43286256 0.4010616\n",
            " 0.38496852]\n",
            "Error after iteration 120 : 33.33333333333333\n",
            "Cost after iteration 120 : [0.32232186 0.40670349 0.43735942 0.43245142 0.42728408 0.39167448\n",
            " 0.37909403]\n",
            "Error after iteration 130 : 28.57142857142857\n",
            "Cost after iteration 130 : [0.31565366 0.40091785 0.43315218 0.42647565 0.42296875 0.3830655\n",
            " 0.37506481]\n",
            "Error after iteration 140 : 28.57142857142857\n",
            "Cost after iteration 140 : [0.30958453 0.39564849 0.42947601 0.42112227 0.41921173 0.37441143\n",
            " 0.37192281]\n",
            "Error after iteration 150 : 28.57142857142857\n",
            "Cost after iteration 150 : [0.30341952 0.39043044 0.4259643  0.41591586 0.41561446 0.36523669\n",
            " 0.3691116 ]\n",
            "Error after iteration 160 : 23.809523809523807\n",
            "Cost after iteration 160 : [0.29676055 0.38499015 0.42240669 0.41056922 0.41195031 0.35527675\n",
            " 0.36630754]\n",
            "Error after iteration 170 : 19.047619047619047\n",
            "Cost after iteration 170 : [0.28939215 0.3791671  0.41867813 0.40490527 0.4080879  0.34440382\n",
            " 0.36331804]\n",
            "Error after iteration 180 : 19.047619047619047\n",
            "Cost after iteration 180 : [0.28121823 0.37287287 0.41470125 0.39881432 0.40395073 0.33259054\n",
            " 0.36002388]\n",
            "Error after iteration 190 : 14.285714285714285\n",
            "Cost after iteration 190 : [0.27222826 0.36607101 0.41042737 0.39223219 0.39949694 0.31989285\n",
            " 0.35634793]\n",
            "Error after iteration 200 : 14.285714285714285\n",
            "Cost after iteration 200 : [0.26247851 0.35876743 0.40582747 0.38512953 0.39470945 0.30643924\n",
            " 0.35223865]\n",
            "Error after iteration 210 : 14.285714285714285\n",
            "Cost after iteration 210 : [0.25207965 0.3510045  0.40088804 0.37750625 0.3895909  0.29241894\n",
            " 0.34766193]\n",
            "Error after iteration 220 : 9.523809523809524\n",
            "Cost after iteration 220 : [0.24118522 0.34285537 0.39560907 0.36938783 0.38416002 0.27806512\n",
            " 0.34259741]\n",
            "Error after iteration 230 : 4.761904761904762\n",
            "Cost after iteration 230 : [0.22997841 0.3344164  0.3900026  0.36082133 0.37844817 0.2636329\n",
            " 0.33703715]\n"
          ]
        }
      ]
    },
    {
      "cell_type": "code",
      "source": [
        "plot_error(error_list1[2:], error_list1[0:2])\n",
        "print('best error for :', error_list1[0][1], error_list1[0][0],'is', error_list1[-1])\n",
        "print('\\n')\n",
        "plot_error(error_list2[2:], error_list2[0:2])\n",
        "print('best error for :', error_list2[0][1], error_list2[0][0],'is', error_list2[-1])\n",
        "print('\\n')\n",
        "plot_error(error_list3[2:], error_list3[0:2])\n",
        "print('best error for :', error_list3[0][1], error_list3[0][0],'is', error_list3[-1])\n",
        "print('\\n')"
      ],
      "metadata": {
        "colab": {
          "base_uri": "https://localhost:8080/",
          "height": 1000
        },
        "id": "a8GTxgJszhFY",
        "outputId": "91f0960b-a9fd-4138-f3d9-ebb9dd54acf5"
      },
      "execution_count": null,
      "outputs": [
        {
          "output_type": "display_data",
          "data": {
            "text/plain": [
              "<Figure size 432x288 with 1 Axes>"
            ],
            "image/png": "[encoded data removed]"
          },
          "metadata": {
            "needs_background": "light"
          }
        },
        {
          "output_type": "stream",
          "name": "stdout",
          "text": [
            "best error for : 5 hidden layer: is 42.857142857142854\n",
            "\n",
            "\n"
          ]
        },
        {
          "output_type": "display_data",
          "data": {
            "text/plain": [
              "<Figure size 432x288 with 1 Axes>"
            ],
            "image/png": "[encoded data removed]"
          },
          "metadata": {
            "needs_background": "light"
          }
        },
        {
          "output_type": "stream",
          "name": "stdout",
          "text": [
            "best error for : 20 hidden layer: is 0.0\n",
            "\n",
            "\n"
          ]
        },
        {
          "output_type": "display_data",
          "data": {
            "text/plain": [
              "<Figure size 432x288 with 1 Axes>"
            ],
            "image/png": "[encoded data removed]"
          },
          "metadata": {
            "needs_background": "light"
          }
        },
        {
          "output_type": "stream",
          "name": "stdout",
          "text": [
            "best error for : 100 hidden layer: is 0.0\n",
            "\n",
            "\n"
          ]
        }
      ]
    },
    {
      "cell_type": "markdown",
      "source": [
        "Error on testset with the parameters of training\n",
        "\n",
        "**With diffrent number of neurons in the hidden layer**"
      ],
      "metadata": {
        "id": "8AfroaLg6ZTg"
      }
    },
    {
      "cell_type": "code",
      "source": [
        "predictions1, error1 = predict(best_param1, test_x_vec)\n",
        "predictions2, error2 = predict(best_param2, test_x_vec)\n",
        "predictions3, error3 = predict(best_param3, test_x_vec)\n",
        "\n",
        "print('error 1 :', error1)\n",
        "print('error 2 :', error2)\n",
        "print('error 3 :', error3)"
      ],
      "metadata": {
        "colab": {
          "base_uri": "https://localhost:8080/"
        },
        "id": "L_7AynnwtfIJ",
        "outputId": "76e1b0f4-1029-48cb-a2ed-68068f23cfd5"
      },
      "execution_count": null,
      "outputs": [
        {
          "output_type": "stream",
          "name": "stdout",
          "text": [
            "error 1 : 38.095238095238095\n",
            "error 2 : 0.0\n",
            "error 3 : 0.0\n"
          ]
        }
      ]
    },
    {
      "cell_type": "markdown",
      "source": [
        "Plot for error on testset\n",
        "**learning rate**"
      ],
      "metadata": {
        "id": "H6ETYJH-UbTN"
      }
    },
    {
      "cell_type": "code",
      "source": [
        "def plot_error_learningrate(error_l):\n",
        "  # plt.rcParams[\"figure.figsize\"] = [6, 7]\n",
        "  # plt.rcParams[\"figure.autolayout\"] = True\n",
        "  x_values = [error_l[0][0], error_l[1][0], error_l[2][0], error_l[3][0]]\n",
        "  y_values = [error_l[0][1], error_l[1][1], error_l[2][1], error_l[3][1]]\n",
        "  print(error_l[0][1], error_l[1][1], error_l[2][1], error_l[3][1])\n",
        "\n",
        "  plt.plot(x_values, y_values, 'bo', linestyle=\"--\", marker='o')\n",
        "  plt.show()"
      ],
      "metadata": {
        "id": "kRJob0p-UZPQ"
      },
      "execution_count": null,
      "outputs": []
    },
    {
      "cell_type": "markdown",
      "source": [
        "Different Learning rates\n",
        "\n",
        "0.9, 0.1, 0.5, 0.01"
      ],
      "metadata": {
        "id": "9FWBXQhkQzPf"
      }
    },
    {
      "cell_type": "code",
      "source": [
        "error_l = [(),(),(),()]\n",
        "learning_rate1 = 0.9\n",
        "error_list10, predic10, best_param10 = mlp_train_model(train_x_vec, train_y_vec, 20, 20, learning_rate1, (0,0.01))\n",
        "predictions10, error10 = predict(best_param10, test_x_vec)\n",
        "error_l[0] = (error10, learning_rate1)\n",
        "print('error 1 :', error_l[0])"
      ],
      "metadata": {
        "colab": {
          "base_uri": "https://localhost:8080/"
        },
        "id": "UUPsONTIR9Mv",
        "outputId": "2730e937-4408-4dbd-b0a8-922ccf324e3b"
      },
      "execution_count": null,
      "outputs": [
        {
          "output_type": "stream",
          "name": "stdout",
          "text": [
            "Error after iteration 0 : 100.0\n",
            "Cost after iteration 0 : [0.69359049 0.69344852 0.69288388 0.69297164 0.69220688 0.69295771\n",
            " 0.69446168]\n",
            "error 1 : (0.0, 0.9)\n"
          ]
        }
      ]
    },
    {
      "cell_type": "code",
      "source": [
        "learning_rate2 = 0.5\n",
        "error_list20, predic20, best_param20 = mlp_train_model(train_x_vec, train_y_vec, 20, 20, learning_rate2, (0,0.01))\n",
        "predictions20, error20 = predict(best_param20, test_x_vec)\n",
        "error_l[1] = (error20, learning_rate2)\n",
        "print('error 2 :', error_l[1])"
      ],
      "metadata": {
        "colab": {
          "base_uri": "https://localhost:8080/"
        },
        "id": "fzFlfymGS6iM",
        "outputId": "81974914-1597-4491-b014-7199293b285d"
      },
      "execution_count": null,
      "outputs": [
        {
          "output_type": "stream",
          "name": "stdout",
          "text": [
            "Error after iteration 0 : 100.0\n",
            "Cost after iteration 0 : [0.69359049 0.69344852 0.69288388 0.69297164 0.69220688 0.69295771\n",
            " 0.69446168]\n",
            "Error after iteration 10 : 9.523809523809524\n",
            "Cost after iteration 10 : [0.19092167 0.32010694 0.36351682 0.31728568 0.35975967 0.23038288\n",
            " 0.38128693]\n",
            "error 2 : (0.0, 0.5)\n"
          ]
        }
      ]
    },
    {
      "cell_type": "code",
      "source": [
        "learning_rate3 = 0.1\n",
        "error_list30, predic30, best_param30 = mlp_train_model(train_x_vec, train_y_vec, 20, 20, learning_rate3, (0,0.01)) \n",
        "predictions30, error30 = predict(best_param30, test_x_vec)\n",
        "error_l[2] = (error30, learning_rate3)\n",
        "print('error 3 :', error_l[2])"
      ],
      "metadata": {
        "colab": {
          "base_uri": "https://localhost:8080/"
        },
        "id": "jIUTBBkYbR1S",
        "outputId": "84428664-24fe-43c9-ed54-af794c8dd53a"
      },
      "execution_count": null,
      "outputs": [
        {
          "output_type": "stream",
          "name": "stdout",
          "text": [
            "Error after iteration 0 : 100.0\n",
            "Cost after iteration 0 : [0.69359049 0.69344852 0.69288388 0.69297164 0.69220688 0.69295771\n",
            " 0.69446168]\n",
            "Error after iteration 10 : 66.66666666666666\n",
            "Cost after iteration 10 : [0.47535815 0.51180362 0.51892848 0.51534117 0.51048244 0.50432095\n",
            " 0.496458  ]\n",
            "error 3 : (42.857142857142854, 0.1)\n"
          ]
        }
      ]
    },
    {
      "cell_type": "code",
      "source": [
        "learning_rate4 = 0.01\n",
        "error_list40, predic40, best_param40 = mlp_train_model(train_x_vec, train_y_vec, 20, 20, learning_rate4, (0,0.01)) \n",
        "predictions40, error40 = predict(best_param40, test_x_vec)\n",
        "error_l[3] = (error40, learning_rate4)\n",
        "print('error 4 :', error_l[3])"
      ],
      "metadata": {
        "colab": {
          "base_uri": "https://localhost:8080/"
        },
        "id": "HeosK_XkS9Ds",
        "outputId": "9919dd06-6e29-4868-9ddc-a38c2fcdcf22"
      },
      "execution_count": null,
      "outputs": [
        {
          "output_type": "stream",
          "name": "stdout",
          "text": [
            "Error after iteration 0 : 100.0\n",
            "Cost after iteration 0 : [0.69359049 0.69344852 0.69288388 0.69297164 0.69220688 0.69295771\n",
            " 0.69446168]\n",
            "Error after iteration 10 : 85.71428571428571\n",
            "Cost after iteration 10 : [0.67970735 0.68026599 0.67961559 0.67943478 0.67824021 0.67875818\n",
            " 0.68070179]\n",
            "error 4 : (80.95238095238095, 0.01)\n"
          ]
        }
      ]
    },
    {
      "cell_type": "code",
      "source": [
        "plot_error_learningrate(error_l)"
      ],
      "metadata": {
        "colab": {
          "base_uri": "https://localhost:8080/",
          "height": 282
        },
        "id": "SSWhzo0qb8U-",
        "outputId": "b4032350-1f8d-496d-d730-a80d0da606c1"
      },
      "execution_count": null,
      "outputs": [
        {
          "output_type": "stream",
          "name": "stdout",
          "text": [
            "0.9 0.5 0.1 0.01\n"
          ]
        },
        {
          "output_type": "display_data",
          "data": {
            "text/plain": [
              "<Figure size 432x288 with 1 Axes>"
            ],
            "image/png": "[encoded data removed]"
          },
          "metadata": {
            "needs_background": "light"
          }
        }
      ]
    }
  ]
}